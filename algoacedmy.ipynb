{
 "cells": [
  {
   "cell_type": "code",
   "execution_count": 4,
   "metadata": {},
   "outputs": [],
   "source": [
    "# #selection sort\n",
    "\n",
    "# class Solution:\n",
    "#     def sort(self, nums: List[int]):\n",
    "#         for i in range(len(nums)):\n",
    "#             for j in range(i+1,len(nums)):\n",
    "#                 if nums[i]>nums[j]:\n",
    "#                     nums[i],nums[j] = nums[j],nums[i]\n"
   ]
  },
  {
   "cell_type": "code",
   "execution_count": 3,
   "metadata": {},
   "outputs": [
    {
     "name": "stdout",
     "output_type": "stream",
     "text": [
      " * *\n",
      " ** **\n",
      " *** ***\n",
      " **** ****\n",
      " ***** *****\n"
     ]
    }
   ],
   "source": [
    "str=\"\"\n",
    "for i in range(5):\n",
    "    str+=\"*\"\n",
    "    print(\" \"+ str + \" \" + str)\n",
    "        "
   ]
  },
  {
   "cell_type": "code",
   "execution_count": null,
   "metadata": {},
   "outputs": [],
   "source": []
  }
 ],
 "metadata": {
  "kernelspec": {
   "display_name": "Python 3",
   "language": "python",
   "name": "python3"
  },
  "language_info": {
   "codemirror_mode": {
    "name": "ipython",
    "version": 3
   },
   "file_extension": ".py",
   "mimetype": "text/x-python",
   "name": "python",
   "nbconvert_exporter": "python",
   "pygments_lexer": "ipython3",
   "version": "3.8.5"
  }
 },
 "nbformat": 4,
 "nbformat_minor": 4
}
