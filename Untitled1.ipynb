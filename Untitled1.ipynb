{
 "cells": [
  {
   "cell_type": "code",
   "execution_count": 2,
   "metadata": {},
   "outputs": [],
   "source": []
  },
  {
   "cell_type": "code",
   "execution_count": 3,
   "metadata": {},
   "outputs": [
    {
     "name": "stdout",
     "output_type": "stream",
     "text": [
      "0.0\n"
     ]
    }
   ],
   "source": []
  },
  {
   "cell_type": "code",
   "execution_count": 7,
   "metadata": {},
   "outputs": [],
   "source": [
    "a = [6,6,6,6,7,8,9,1]\n",
    "k = [1,2,3,4,5,6,7,8]\n",
    "import pandas as pd\n",
    "df = pd.DataFrame(a,k)\n",
    "\n",
    "# print(df)\n",
    "def rst(val):\n",
    "    lst= []\n",
    "    for i in val:\n",
    "        if i <6:\n",
    "            lst.append(\"bad\")\n",
    "        elif i == 6:\n",
    "             lst.append(\"Normal\")\n",
    "        else:\n",
    "            lst.append(\"good\")\n",
    "    return lst\n",
    "df.columns = [\"val\"]\n",
    "\n",
    "df[\"rst\"] = rst(df[\"val\"])"
   ]
  },
  {
   "cell_type": "code",
   "execution_count": 8,
   "metadata": {},
   "outputs": [
    {
     "name": "stdout",
     "output_type": "stream",
     "text": [
      "   val     rst\n",
      "1    6  Normal\n",
      "2    6  Normal\n",
      "3    6  Normal\n",
      "4    6  Normal\n",
      "5    7    good\n",
      "6    8    good\n",
      "7    9    good\n",
      "8    1     bad\n"
     ]
    }
   ],
   "source": [
    "print(df)"
   ]
  },
  {
   "cell_type": "code",
   "execution_count": 8,
   "metadata": {},
   "outputs": [
    {
     "name": "stdout",
     "output_type": "stream",
     "text": [
      "normal\n",
      "normal\n",
      "normal\n",
      "normal\n",
      "good\n",
      "good\n",
      "good\n",
      "bad\n"
     ]
    }
   ],
   "source": [
    "rst(a)"
   ]
  },
  {
   "cell_type": "code",
   "execution_count": null,
   "metadata": {},
   "outputs": [],
   "source": [
    "[for i in a if i<6 \"bad \""
   ]
  }
 ],
 "metadata": {
  "kernelspec": {
   "display_name": "Python 3",
   "language": "python",
   "name": "python3"
  },
  "language_info": {
   "codemirror_mode": {
    "name": "ipython",
    "version": 3
   },
   "file_extension": ".py",
   "mimetype": "text/x-python",
   "name": "python",
   "nbconvert_exporter": "python",
   "pygments_lexer": "ipython3",
   "version": "3.8.5"
  }
 },
 "nbformat": 4,
 "nbformat_minor": 4
}
