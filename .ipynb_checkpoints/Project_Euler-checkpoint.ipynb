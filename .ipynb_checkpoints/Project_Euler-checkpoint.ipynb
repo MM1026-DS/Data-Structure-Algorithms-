{
 "cells": [
  {
   "cell_type": "code",
   "execution_count": 9,
   "metadata": {},
   "outputs": [
    {
     "name": "stdin",
     "output_type": "stream",
     "text": [
      " 1\n",
      " 999\n"
     ]
    },
    {
     "name": "stdout",
     "output_type": "stream",
     "text": [
      "233168\n"
     ]
    }
   ],
   "source": [
    "class natural_number:\n",
    "    def __init__(self):\n",
    "        self.count = 0\n",
    "    def below_natural_number(self,starting_point,ending_point):\n",
    "        try:\n",
    "            start_point = int(starting_point)\n",
    "            ending_point = int(ending_point)\n",
    "        except:\n",
    "            print(\"Please provide the number in Integer\")\n",
    "            quit()\n",
    "            \n",
    "        for i in range(start_point,ending_point+1):\n",
    "            if i%3==0 or i%5==0:\n",
    "                self.count+=i\n",
    "        return self.count\n",
    "\n",
    "    \n",
    "if __name__ == \"__main__\":\n",
    "    starting_point = input()\n",
    "    ending_point = input()\n",
    "    sum_of_natural = natural_number()\n",
    "    print(sum_of_natural.below_natural_number(int(starting_point),int(ending_point)))"
   ]
  },
  {
   "cell_type": "code",
   "execution_count": 16,
   "metadata": {},
   "outputs": [],
   "source": [
    "### To much time taking\n",
    "\n",
    "\n",
    "# class fibnoacci_even_sum:\n",
    "#     def __init__(self):\n",
    "#         self.even_sum_container = 0\n",
    "#         self.lst = []\n",
    "        \n",
    "#     def fib_Sum(self,n):\n",
    "       \n",
    "#         self.fib_sum_master(self.lst,n)\n",
    "    \n",
    "#     def fib_sum_master(self,lst,n):\n",
    "#         i=2\n",
    "#         lst.insert(0,1)\n",
    "#         lst.insert(1,2)\n",
    "        \n",
    "#         while i<=n:\n",
    "#             if lst[i-1]<n:\n",
    "#                 lst.insert(i,lst[i-1] + lst[i-2])\n",
    "#                 i+=1\n",
    "                \n",
    "#         for j in lst:\n",
    "#             if j%2==0:\n",
    "#                 self.even_sum_container+=j\n",
    "#         return self.even_sum_container\n",
    "    \n",
    "\n",
    "    \n",
    "# if __name__ == \"__main__\":\n",
    "#     n = int(input())\n",
    "#     fib = fibnoacci_even_sum()\n",
    "#     print(fib.fib_Sum(n))\n",
    "        \n",
    "         "
   ]
  },
  {
   "cell_type": "code",
   "execution_count": null,
   "metadata": {},
   "outputs": [],
   "source": [
    "# lst = []\n",
    "# k = 0\n",
    "# for i in range(0,100):\n",
    "#     lst.append(i)\n",
    "\n",
    "# for i in range(2,len(lst)):\n",
    "#   lst[0] = 1\n",
    "#   lst[1] = 2\n",
    "  \n",
    "#   lst[i] = lst[i-1] + lst[i-2]\n",
    "  \n",
    "   \n",
    "# print(lst)\n",
    "# for j in lst:\n",
    "  \n",
    "#   if j%2==0 and j<=4000000:\n",
    "#     k+=j\n",
    "# print(k)\n"
   ]
  },
  {
   "cell_type": "markdown",
   "metadata": {},
   "source": [
    "## Even Fibonacci numbers"
   ]
  },
  {
   "cell_type": "code",
   "execution_count": null,
   "metadata": {},
   "outputs": [],
   "source": [
    "x=[0, 1]\n",
    "y=[]\n",
    "for _ in range(1, 100):\n",
    "    temp = sum(x)\n",
    "    x[0] = x[1]\n",
    "    x[1] = temp\n",
    "    if x[1] > 4000000:\n",
    "        break\n",
    "    if (x[1]%2==0):\n",
    "        y.append(x[1])\n",
    "print(sum(y))"
   ]
  },
  {
   "cell_type": "markdown",
   "metadata": {},
   "source": [
    "------------------------"
   ]
  },
  {
   "cell_type": "markdown",
   "metadata": {},
   "source": [
    "## Largest prime factor"
   ]
  },
  {
   "cell_type": "code",
   "execution_count": 51,
   "metadata": {},
   "outputs": [
    {
     "name": "stdin",
     "output_type": "stream",
     "text": [
      " 25698751364526\n"
     ]
    },
    {
     "name": "stdout",
     "output_type": "stream",
     "text": [
      "328513\n"
     ]
    }
   ],
   "source": [
    "import math\n",
    "import time \n",
    "class maximum_prime_factor:\n",
    "   \n",
    "    def __init__(self):\n",
    "        self.lst = []\n",
    "    def primefactor(self,n):\n",
    "        for j in range(2,int(math.sqrt(n))):\n",
    "            if n%j==0:\n",
    "                self.lst.append(j)\n",
    "        \n",
    "        for i in self.lst:\n",
    "            for j in self.lst[::-1]:\n",
    "                if j%i ==0:\n",
    "                    self.lst.pop(self.lst.index(j))\n",
    "                    \n",
    "            \n",
    "        smx = max(self.lst)\n",
    "        return smx\n",
    "\n",
    "    \n",
    "if __name__ == \"__main__\":\n",
    "    n = int(input())\n",
    "    fn = maximum_prime_factor()\n",
    "    print(fn.primefactor(n))"
   ]
  },
  {
   "cell_type": "code",
   "execution_count": 50,
   "metadata": {},
   "outputs": [
    {
     "name": "stdout",
     "output_type": "stream",
     "text": [
      "6857\n"
     ]
    }
   ],
   "source": [
    "# Python3 code to find largest prime\n",
    "# factor of number\n",
    "import math\n",
    "\n",
    "  \n",
    "# A function to find largest prime factor\n",
    "def maxPrimeFactors (n):\n",
    "      \n",
    "    # Initialize the maximum prime factor\n",
    "    # variable with the lowest one\n",
    "    maxPrime = -1\n",
    "      \n",
    "    # Print the number of 2s that divide n\n",
    "    while n % 2 == 0:\n",
    "        maxPrime = 2\n",
    "        n >>= 1     # equivalent to n /= 2\n",
    "          \n",
    "    # n must be odd at this point, \n",
    "    # thus skip the even numbers and \n",
    "    # iterate only for odd integers\n",
    "    for i in range(3, int(math.sqrt(n)) + 1, 2):\n",
    "        while n % i == 0:\n",
    "            maxPrime = i\n",
    "            n = n / i\n",
    "      \n",
    "    # This condition is to handle the \n",
    "    # case when n is a prime number \n",
    "    # greater than 2\n",
    "    if n > 2:\n",
    "        maxPrime = n\n",
    "      \n",
    "    return int(maxPrime)\n",
    "  \n",
    "# # Driver code to test above function\n",
    "# n = 15\n",
    "# print(maxPrimeFactors(n))\n",
    "  \n",
    "n = 600851475143\n",
    "print(maxPrimeFactors(n))\n",
    "  \n"
   ]
  },
  {
   "cell_type": "markdown",
   "metadata": {},
   "source": [
    "-------------------"
   ]
  },
  {
   "cell_type": "code",
   "execution_count": 1,
   "metadata": {},
   "outputs": [
    {
     "name": "stdout",
     "output_type": "stream",
     "text": [
      "906609\n"
     ]
    }
   ],
   "source": [
    "class reverser_fib:\n",
    "    def __init__(self):\n",
    "        self.lst = []\n",
    "        self.lst2 = []\n",
    "    def rev_fib(self):\n",
    "        for i in range(100,1000):\n",
    "            for j in range(100,1000):\n",
    "                mc = i * j\n",
    "                mc = str(mc)\n",
    "                self.lst.append(mc)\n",
    "        \n",
    "        for j in self.lst:\n",
    "            if j == j[::-1]:\n",
    "                self.lst2.append(int(j))\n",
    "        mx = max(self.lst2)\n",
    "        return mx\n",
    "\n",
    "if  __name__ == \"__main__\":\n",
    "    rev = reverser_fib()\n",
    "    print(rev.rev_fib())\n",
    "            \n",
    "        "
   ]
  },
  {
   "cell_type": "markdown",
   "metadata": {},
   "source": [
    "------------------------------------"
   ]
  },
  {
   "cell_type": "code",
   "execution_count": 21,
   "metadata": {},
   "outputs": [
    {
     "name": "stdout",
     "output_type": "stream",
     "text": [
      "232792560\n"
     ]
    }
   ],
   "source": [
    "import math\n",
    "class smallest_divisble:\n",
    "    def __init__(self):\n",
    "        self.lst = []\n",
    "        self.lst2 = []\n",
    "        \n",
    "    def minimum(self):\n",
    "        ans = 1 \n",
    "        for i in range(2,21):\n",
    "            ans = int(ans*i/math.gcd(ans,i))\n",
    "        return ans\n",
    "                \n",
    "if __name__ == \"__main__\":\n",
    "    small  = smallest_divisble()\n",
    "    print(small.minimum())"
   ]
  },
  {
   "cell_type": "markdown",
   "metadata": {},
   "source": [
    "-----------------"
   ]
  },
  {
   "cell_type": "code",
   "execution_count": 3,
   "metadata": {},
   "outputs": [
    {
     "name": "stdin",
     "output_type": "stream",
     "text": [
      " 100\n"
     ]
    },
    {
     "name": "stdout",
     "output_type": "stream",
     "text": [
      "25164150.0\n"
     ]
    }
   ],
   "source": [
    "class Sum_Square_different:\n",
    "    def __init__(self):\n",
    "        self.square_sum = 0\n",
    "        self.sum_square = 0\n",
    "        \n",
    "    def diff_square(self,n):\n",
    "        sum_of_square = n/2*(2+(n-1))\n",
    "        self.sum_square = sum_of_square**2\n",
    "        for i in range(1,n+1):\n",
    "            self.square_sum+=i**2\n",
    "        \n",
    "        diff = self.sum_square -self.square_sum\n",
    "        \n",
    "        return diff\n",
    "    \n",
    "if __name__ == \"__main__\":\n",
    "    n = int(input())\n",
    "    s = Sum_Square_different()\n",
    "    print(s.diff_square(n))"
   ]
  },
  {
   "cell_type": "markdown",
   "metadata": {},
   "source": [
    "---------------------"
   ]
  },
  {
   "cell_type": "code",
   "execution_count": 41,
   "metadata": {},
   "outputs": [
    {
     "name": "stdin",
     "output_type": "stream",
     "text": [
      " 10001\n"
     ]
    },
    {
     "name": "stdout",
     "output_type": "stream",
     "text": [
      "104743\n"
     ]
    }
   ],
   "source": [
    "import math\n",
    "class prime_number:\n",
    "    def __init__(self):\n",
    "        \n",
    "        self.lst = []\n",
    "    def prime_nm(self,n):\n",
    "        lim = 100*n\n",
    "        for num in range(2,lim+1):\n",
    "            if all(num%i!=0 for i in range(2,int(math.sqrt(num))+1)):\n",
    "                self.lst.append(num)\n",
    "                \n",
    "    \n",
    "        \n",
    "        num = self.lst[n-1]\n",
    "        return num\n",
    "        \n",
    "        \n",
    "if __name__ == \"__main__\":\n",
    "    n = int(input())\n",
    "    cla = prime_number()\n",
    "    print(cla.prime_nm(n))"
   ]
  },
  {
   "cell_type": "markdown",
   "metadata": {},
   "source": [
    "------------------"
   ]
  },
  {
   "cell_type": "code",
   "execution_count": 4,
   "metadata": {},
   "outputs": [],
   "source": [
    "a = \"\"\"73167176531330624919225119674426574742355349194934\n",
    "96983520312774506326239578318016984801869478851843\n",
    "85861560789112949495459501737958331952853208805511\n",
    "12540698747158523863050715693290963295227443043557\n",
    "66896648950445244523161731856403098711121722383113\n",
    "62229893423380308135336276614282806444486645238749\n",
    "30358907296290491560440772390713810515859307960866\n",
    "70172427121883998797908792274921901699720888093776\n",
    "65727333001053367881220235421809751254540594752243\n",
    "52584907711670556013604839586446706324415722155397\n",
    "53697817977846174064955149290862569321978468622482\n",
    "83972241375657056057490261407972968652414535100474\n",
    "82166370484403199890008895243450658541227588666881\n",
    "16427171479924442928230863465674813919123162824586\n",
    "17866458359124566529476545682848912883142607690042\n",
    "24219022671055626321111109370544217506941658960408\n",
    "07198403850962455444362981230987879927244284909188\n",
    "84580156166097919133875499200524063689912560717606\n",
    "05886116467109405077541002256983155200055935729725\n",
    "71636269561882670428252483600823257530420752963450\"\"\""
   ]
  },
  {
   "cell_type": "code",
   "execution_count": 52,
   "metadata": {},
   "outputs": [],
   "source": [
    "lst = []\n",
    "for i in a:\n",
    "    if i == \"\\n\":\n",
    "        continue\n",
    "    else:\n",
    "        lst.append(int(i))\n"
   ]
  },
  {
   "cell_type": "code",
   "execution_count": 51,
   "metadata": {},
   "outputs": [
    {
     "name": "stdout",
     "output_type": "stream",
     "text": [
      "23514624000\n"
     ]
    }
   ],
   "source": [
    "mul = 1\n",
    "mx = 0\n",
    "for j in range(len(lst)-13):\n",
    "    for i in lst[j:13+j]:\n",
    "        mul = mul * i\n",
    "#         print(mul)\n",
    "        \n",
    "        if mul>mx:\n",
    "            mx = mul\n",
    "    mul = 1\n",
    "print(mx)\n",
    "    "
   ]
  },
  {
   "cell_type": "markdown",
   "metadata": {},
   "source": [
    "------------------"
   ]
  },
  {
   "cell_type": "code",
   "execution_count": 45,
   "metadata": {},
   "outputs": [
    {
     "name": "stdout",
     "output_type": "stream",
     "text": [
      "31875000\n",
      "1016015625000000\n"
     ]
    }
   ],
   "source": [
    "mul = 1\n",
    "for i in range(1,1000):\n",
    "    for j in range(1,1000):\n",
    "        k = 1000 -i-j\n",
    "        if(i**2 + j**2 == k**2 and i+j+k==1000):\n",
    "            mul = mul *i*j*k\n",
    "            print(mul)\n",
    "            break\n",
    "            "
   ]
  },
  {
   "cell_type": "markdown",
   "metadata": {},
   "source": [
    "---------"
   ]
  },
  {
   "cell_type": "code",
   "execution_count": 25,
   "metadata": {},
   "outputs": [],
   "source": [
    "import math"
   ]
  },
  {
   "cell_type": "code",
   "execution_count": 54,
   "metadata": {},
   "outputs": [
    {
     "ename": "KeyboardInterrupt",
     "evalue": "",
     "output_type": "error",
     "traceback": [
      "\u001b[1;31m---------------------------------------------------------------------------\u001b[0m",
      "\u001b[1;31mKeyboardInterrupt\u001b[0m                         Traceback (most recent call last)",
      "\u001b[1;32m<ipython-input-54-0bef40f4951e>\u001b[0m in \u001b[0;36m<module>\u001b[1;34m\u001b[0m\n\u001b[0;32m     30\u001b[0m \u001b[1;32mif\u001b[0m \u001b[0m__name__\u001b[0m \u001b[1;33m==\u001b[0m \u001b[1;34m\"__main__\"\u001b[0m\u001b[1;33m:\u001b[0m\u001b[1;33m\u001b[0m\u001b[1;33m\u001b[0m\u001b[0m\n\u001b[0;32m     31\u001b[0m     \u001b[0mnum\u001b[0m \u001b[1;33m=\u001b[0m \u001b[0mnumber\u001b[0m\u001b[1;33m(\u001b[0m\u001b[1;33m)\u001b[0m\u001b[1;33m\u001b[0m\u001b[1;33m\u001b[0m\u001b[0m\n\u001b[1;32m---> 32\u001b[1;33m     \u001b[0mprint\u001b[0m\u001b[1;33m(\u001b[0m\u001b[0mnum\u001b[0m\u001b[1;33m.\u001b[0m\u001b[0mprime\u001b[0m\u001b[1;33m(\u001b[0m\u001b[1;36m200000\u001b[0m\u001b[1;33m)\u001b[0m\u001b[1;33m)\u001b[0m\u001b[1;33m\u001b[0m\u001b[1;33m\u001b[0m\u001b[0m\n\u001b[0m",
      "\u001b[1;32m<ipython-input-54-0bef40f4951e>\u001b[0m in \u001b[0;36mprime\u001b[1;34m(self, n)\u001b[0m\n\u001b[0;32m      5\u001b[0m     \u001b[1;32mdef\u001b[0m \u001b[0mprime\u001b[0m\u001b[1;33m(\u001b[0m\u001b[0mself\u001b[0m\u001b[1;33m,\u001b[0m\u001b[0mn\u001b[0m\u001b[1;33m)\u001b[0m\u001b[1;33m:\u001b[0m\u001b[1;33m\u001b[0m\u001b[1;33m\u001b[0m\u001b[0m\n\u001b[0;32m      6\u001b[0m         \u001b[1;32mfor\u001b[0m \u001b[0mi\u001b[0m \u001b[1;32min\u001b[0m \u001b[0mrange\u001b[0m\u001b[1;33m(\u001b[0m\u001b[1;36m2\u001b[0m\u001b[1;33m,\u001b[0m\u001b[0mn\u001b[0m\u001b[1;33m)\u001b[0m\u001b[1;33m:\u001b[0m\u001b[1;33m\u001b[0m\u001b[1;33m\u001b[0m\u001b[0m\n\u001b[1;32m----> 7\u001b[1;33m             \u001b[1;32mif\u001b[0m \u001b[0mall\u001b[0m\u001b[1;33m(\u001b[0m\u001b[0mi\u001b[0m\u001b[1;33m%\u001b[0m\u001b[0mj\u001b[0m\u001b[1;33m!=\u001b[0m\u001b[1;36m0\u001b[0m \u001b[1;32mfor\u001b[0m \u001b[0mj\u001b[0m \u001b[1;32min\u001b[0m \u001b[0mrange\u001b[0m\u001b[1;33m(\u001b[0m\u001b[1;36m2\u001b[0m\u001b[1;33m,\u001b[0m\u001b[0mn\u001b[0m\u001b[1;33m//\u001b[0m\u001b[1;36m2\u001b[0m\u001b[1;33m+\u001b[0m\u001b[1;36m1\u001b[0m\u001b[1;33m)\u001b[0m\u001b[1;33m)\u001b[0m\u001b[1;33m:\u001b[0m\u001b[1;33m\u001b[0m\u001b[1;33m\u001b[0m\u001b[0m\n\u001b[0m\u001b[0;32m      8\u001b[0m                 \u001b[0mself\u001b[0m\u001b[1;33m.\u001b[0m\u001b[0mlst\u001b[0m\u001b[1;33m.\u001b[0m\u001b[0mappend\u001b[0m\u001b[1;33m(\u001b[0m\u001b[0mi\u001b[0m\u001b[1;33m)\u001b[0m\u001b[1;33m\u001b[0m\u001b[1;33m\u001b[0m\u001b[0m\n\u001b[0;32m      9\u001b[0m \u001b[1;31m#         add = sum(self.lst)\u001b[0m\u001b[1;33m\u001b[0m\u001b[1;33m\u001b[0m\u001b[1;33m\u001b[0m\u001b[0m\n",
      "\u001b[1;32m<ipython-input-54-0bef40f4951e>\u001b[0m in \u001b[0;36m<genexpr>\u001b[1;34m(.0)\u001b[0m\n\u001b[0;32m      5\u001b[0m     \u001b[1;32mdef\u001b[0m \u001b[0mprime\u001b[0m\u001b[1;33m(\u001b[0m\u001b[0mself\u001b[0m\u001b[1;33m,\u001b[0m\u001b[0mn\u001b[0m\u001b[1;33m)\u001b[0m\u001b[1;33m:\u001b[0m\u001b[1;33m\u001b[0m\u001b[1;33m\u001b[0m\u001b[0m\n\u001b[0;32m      6\u001b[0m         \u001b[1;32mfor\u001b[0m \u001b[0mi\u001b[0m \u001b[1;32min\u001b[0m \u001b[0mrange\u001b[0m\u001b[1;33m(\u001b[0m\u001b[1;36m2\u001b[0m\u001b[1;33m,\u001b[0m\u001b[0mn\u001b[0m\u001b[1;33m)\u001b[0m\u001b[1;33m:\u001b[0m\u001b[1;33m\u001b[0m\u001b[1;33m\u001b[0m\u001b[0m\n\u001b[1;32m----> 7\u001b[1;33m             \u001b[1;32mif\u001b[0m \u001b[0mall\u001b[0m\u001b[1;33m(\u001b[0m\u001b[0mi\u001b[0m\u001b[1;33m%\u001b[0m\u001b[0mj\u001b[0m\u001b[1;33m!=\u001b[0m\u001b[1;36m0\u001b[0m \u001b[1;32mfor\u001b[0m \u001b[0mj\u001b[0m \u001b[1;32min\u001b[0m \u001b[0mrange\u001b[0m\u001b[1;33m(\u001b[0m\u001b[1;36m2\u001b[0m\u001b[1;33m,\u001b[0m\u001b[0mn\u001b[0m\u001b[1;33m//\u001b[0m\u001b[1;36m2\u001b[0m\u001b[1;33m+\u001b[0m\u001b[1;36m1\u001b[0m\u001b[1;33m)\u001b[0m\u001b[1;33m)\u001b[0m\u001b[1;33m:\u001b[0m\u001b[1;33m\u001b[0m\u001b[1;33m\u001b[0m\u001b[0m\n\u001b[0m\u001b[0;32m      8\u001b[0m                 \u001b[0mself\u001b[0m\u001b[1;33m.\u001b[0m\u001b[0mlst\u001b[0m\u001b[1;33m.\u001b[0m\u001b[0mappend\u001b[0m\u001b[1;33m(\u001b[0m\u001b[0mi\u001b[0m\u001b[1;33m)\u001b[0m\u001b[1;33m\u001b[0m\u001b[1;33m\u001b[0m\u001b[0m\n\u001b[0;32m      9\u001b[0m \u001b[1;31m#         add = sum(self.lst)\u001b[0m\u001b[1;33m\u001b[0m\u001b[1;33m\u001b[0m\u001b[1;33m\u001b[0m\u001b[0m\n",
      "\u001b[1;31mKeyboardInterrupt\u001b[0m: "
     ]
    }
   ],
   "source": [
    "class number:\n",
    "    def __init__(self):\n",
    "        self.lst = []\n",
    "        \n",
    "    def prime(self,n):\n",
    "        for i in range(2,n):\n",
    "            if all(i%j!=0 for j in range(2,n//2+1)):\n",
    "                self.lst.append(i)\n",
    "#         add = sum(self.lst)\n",
    "        \n",
    "#         for j in range(n//5,2*n//5):\n",
    "#             if all(j%k!=0 for k in range(2,(j//2)+1)):\n",
    "#                 self.lst.append(j)\n",
    "                \n",
    "#         for k in range(2*n//5,3*n//5):\n",
    "#             if all(k%l!=0 for l in range(2,(k//2)+1)):\n",
    "#                 self.lst.append(k)\n",
    "                \n",
    "#         for l in range(3*n//5,4*n//5):\n",
    "#             if all(l%j!=0 for j in range(2,(l//2)+1)):\n",
    "#                 self.lst.append(l)\n",
    "                \n",
    "#         for m in range(4*n//5,n):\n",
    "#             if all(m%j!=0 for j in range(2,(m//2)+1)):\n",
    "#                 self.lst.append(m)\n",
    "                \n",
    "        add = sum(self.lst)\n",
    "        return add\n",
    "\n",
    "if __name__ == \"__main__\":\n",
    "    num = number()\n",
    "    print(num.prime(200000))"
   ]
  },
  {
   "cell_type": "code",
   "execution_count": null,
   "metadata": {},
   "outputs": [],
   "source": [
    "2//2"
   ]
  },
  {
   "cell_type": "code",
   "execution_count": 38,
   "metadata": {},
   "outputs": [
    {
     "data": {
      "text/plain": [
       "400000"
      ]
     },
     "execution_count": 38,
     "metadata": {},
     "output_type": "execute_result"
    }
   ],
   "source": [
    "2000000//5"
   ]
  },
  {
   "cell_type": "code",
   "execution_count": 43,
   "metadata": {},
   "outputs": [
    {
     "data": {
      "text/plain": [
       "1414"
      ]
     },
     "execution_count": 43,
     "metadata": {},
     "output_type": "execute_result"
    }
   ],
   "source": [
    "int(math.sqrt(2000000))"
   ]
  },
  {
   "cell_type": "code",
   "execution_count": null,
   "metadata": {},
   "outputs": [],
   "source": [
    "?"
   ]
  }
 ],
 "metadata": {
  "kernelspec": {
   "display_name": "Python 3",
   "language": "python",
   "name": "python3"
  },
  "language_info": {
   "codemirror_mode": {
    "name": "ipython",
    "version": 3
   },
   "file_extension": ".py",
   "mimetype": "text/x-python",
   "name": "python",
   "nbconvert_exporter": "python",
   "pygments_lexer": "ipython3",
   "version": "3.8.5"
  }
 },
 "nbformat": 4,
 "nbformat_minor": 4
}
