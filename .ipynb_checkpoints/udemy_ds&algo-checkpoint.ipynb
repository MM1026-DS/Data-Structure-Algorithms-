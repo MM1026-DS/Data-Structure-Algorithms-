{
 "cells": [
  {
   "cell_type": "code",
   "execution_count": 1,
   "metadata": {},
   "outputs": [],
   "source": [
    "import numpy as np"
   ]
  },
  {
   "cell_type": "code",
   "execution_count": 8,
   "metadata": {},
   "outputs": [],
   "source": [
    "a = np.array([1,2,3,4,5,56,7,7,7,78,8,88,8,899,9,99]).reshape(4,4)"
   ]
  },
  {
   "cell_type": "code",
   "execution_count": 9,
   "metadata": {},
   "outputs": [
    {
     "data": {
      "text/plain": [
       "array([[  1,   2,   3,   4],\n",
       "       [  5,  56,   7,   7],\n",
       "       [  7,  78,   8,  88],\n",
       "       [  8, 899,   9,  99]])"
      ]
     },
     "execution_count": 9,
     "metadata": {},
     "output_type": "execute_result"
    }
   ],
   "source": [
    "a"
   ]
  },
  {
   "cell_type": "code",
   "execution_count": 10,
   "metadata": {},
   "outputs": [
    {
     "data": {
      "text/plain": [
       "1"
      ]
     },
     "execution_count": 10,
     "metadata": {},
     "output_type": "execute_result"
    }
   ],
   "source": [
    "a[0][0]"
   ]
  },
  {
   "cell_type": "code",
   "execution_count": 3,
   "metadata": {},
   "outputs": [],
   "source": [
    "lsti = [7,6,5,1,2,8]"
   ]
  },
  {
   "cell_type": "code",
   "execution_count": 4,
   "metadata": {},
   "outputs": [],
   "source": [
    "lsti.sort()"
   ]
  },
  {
   "cell_type": "code",
   "execution_count": 5,
   "metadata": {},
   "outputs": [],
   "source": [
    "def srt(lst,start,end,output):\n",
    "    mid = len(lst)//2\n",
    "    if lst[mid]>output:\n",
    "        return srt(lst,start=0,end=(mid-1),output=output)\n",
    "    elif lst[mid]<output:\n",
    "        return srt(lst= lst,start= mid+1 ,end=len(lst),output=output)\n",
    "    else:\n",
    "        return lst[mid]"
   ]
  },
  {
   "cell_type": "code",
   "execution_count": null,
   "metadata": {},
   "outputs": [],
   "source": [
    "srt(lsti,0,len(lsti),2)"
   ]
  },
  {
   "cell_type": "code",
   "execution_count": 5,
   "metadata": {},
   "outputs": [],
   "source": [
    "a=([1,2,3,4,4])"
   ]
  },
  {
   "cell_type": "markdown",
   "metadata": {},
   "source": [
    "----------"
   ]
  },
  {
   "cell_type": "markdown",
   "metadata": {},
   "source": [
    "list are not storing the number it is storing the pointers in the list and object stored in any place of main memory"
   ]
  },
  {
   "cell_type": "markdown",
   "metadata": {},
   "source": [
    "Every reffernce are a 8 bit in size"
   ]
  },
  {
   "cell_type": "markdown",
   "metadata": {},
   "source": [
    "----------------"
   ]
  },
  {
   "cell_type": "code",
   "execution_count": 16,
   "metadata": {},
   "outputs": [
    {
     "data": {
      "text/plain": [
       "[-3, 0, 3]"
      ]
     },
     "execution_count": 16,
     "metadata": {},
     "output_type": "execute_result"
    }
   ],
   "source": [
    "## Question 1\n",
    "a = [-3,0,3]\n",
    "# a = a[::-1]\n",
    "a"
   ]
  },
  {
   "cell_type": "code",
   "execution_count": 19,
   "metadata": {},
   "outputs": [
    {
     "name": "stdout",
     "output_type": "stream",
     "text": [
      "[6, 5, 4, 4, 4, 23]\n"
     ]
    }
   ],
   "source": [
    "def reverse(num):\n",
    "    start_index = 0 \n",
    "    end_index = len(num)-1\n",
    "    while start_index<end_index:\n",
    "        num[start_index],num[end_index] = num[end_index],num[start_index]\n",
    "        start_index+=1\n",
    "        end_index-=1\n",
    "\n",
    "if __name__ == \"__main__\":\n",
    "    n = [23,4,4,4,5,6]\n",
    "    reverse(n)\n",
    "    print(n)"
   ]
  },
  {
   "cell_type": "code",
   "execution_count": 32,
   "metadata": {},
   "outputs": [
    {
     "name": "stdout",
     "output_type": "stream",
     "text": [
      "not palidrone\n"
     ]
    }
   ],
   "source": [
    "def palindrome_checker(string):\n",
    "    if string[:] == string[::-1]:\n",
    "        print(\"palidrome\")\n",
    "    else:\n",
    "        print(\"not palidrone\")\n",
    "    \n",
    "if __name__ == \"__main__\":\n",
    "    a = \"mayank\"\n",
    "    palindrome_checker(a)\n",
    "#     print(a)"
   ]
  },
  {
   "cell_type": "code",
   "execution_count": 29,
   "metadata": {},
   "outputs": [
    {
     "name": "stdout",
     "output_type": "stream",
     "text": [
      "not\n"
     ]
    }
   ],
   "source": [
    "a = \"mauak\"\n",
    "if a == a[::-1]:\n",
    "    print(\"true\")\n",
    "else:\n",
    "    print(\"not\")"
   ]
  },
  {
   "cell_type": "code",
   "execution_count": 21,
   "metadata": {},
   "outputs": [
    {
     "data": {
      "text/plain": [
       "'m'"
      ]
     },
     "execution_count": 21,
     "metadata": {},
     "output_type": "execute_result"
    }
   ],
   "source": [
    "a[0]"
   ]
  },
  {
   "cell_type": "code",
   "execution_count": 48,
   "metadata": {},
   "outputs": [
    {
     "name": "stdin",
     "output_type": "stream",
     "text": [
      " 101\n"
     ]
    },
    {
     "name": "stdout",
     "output_type": "stream",
     "text": [
      "101\n"
     ]
    }
   ],
   "source": [
    "def reverse(data):\n",
    "    data  = list(str(data))\n",
    "    start_index = 0\n",
    "    end_index = len(data)-1\n",
    "    while end_index>start_index:\n",
    "        data[start_index],data[end_index] = data[end_index],data[start_index]\n",
    "        start_index+=1\n",
    "        end_index-=1\n",
    "    new_nw = \"\".join(data)\n",
    "    new_nw = int(new_nw)\n",
    "    return new_nw\n",
    "if __name__ == \"__main__\":\n",
    "    data = int(input())\n",
    "    n = reverse(data)\n",
    "    print(n)"
   ]
  },
  {
   "cell_type": "code",
   "execution_count": 33,
   "metadata": {},
   "outputs": [],
   "source": [
    "a = 1234"
   ]
  },
  {
   "cell_type": "code",
   "execution_count": 36,
   "metadata": {},
   "outputs": [],
   "source": [
    "a = list(str(a))"
   ]
  },
  {
   "cell_type": "code",
   "execution_count": 37,
   "metadata": {},
   "outputs": [
    {
     "data": {
      "text/plain": [
       "['1', '2', '3', '4']"
      ]
     },
     "execution_count": 37,
     "metadata": {},
     "output_type": "execute_result"
    }
   ],
   "source": [
    "a"
   ]
  },
  {
   "cell_type": "code",
   "execution_count": 59,
   "metadata": {},
   "outputs": [
    {
     "name": "stdout",
     "output_type": "stream",
     "text": [
      "It is not ngram\n"
     ]
    }
   ],
   "source": [
    "def ngram_word(first_word, second_word):\n",
    "    if len(first_word)!=len(second_word):\n",
    "        result = \"It is not ngram\"\n",
    "    for i in second_word:\n",
    "        if i in first_word:\n",
    "            result = \"It is ngram\"\n",
    "        else:\n",
    "            result = \"It is not ngram\"\n",
    "    return result\n",
    "\n",
    "if __name__ == \"__main__\":\n",
    "    first_word = \"mayank\"\n",
    "    second_word = \"kamnye\"\n",
    "    print(ngram_word(first_word = first_word,second_word= second_word))"
   ]
  },
  {
   "cell_type": "code",
   "execution_count": 107,
   "metadata": {},
   "outputs": [
    {
     "name": "stdout",
     "output_type": "stream",
     "text": [
      "Duplicate value -10\n",
      "Duplicate value 0\n",
      "True\n"
     ]
    }
   ],
   "source": [
    "def is_duplicate(lst):\n",
    "    for i in lst:\n",
    "        duplicate = \"\"\n",
    "        cnt = lst.count(i)\n",
    "        if cnt>1:\n",
    "            duplicate = i\n",
    "            lst.pop(lst.index(i))\n",
    "            print(\"Duplicate value {}\".format(duplicate))\n",
    "            \n",
    "        else:\n",
    "            duplicate = \"null\"\n",
    "#             print(\"Duplicate value {}\".format(duplicate))\n",
    "    return True   \n",
    "    \n",
    "\n",
    "\n",
    "\n",
    "if __name__ == \"__main__\":\n",
    "    lst = [1,2,3,4,5,-10,0,-10,0]\n",
    "    print(is_duplicate(lst))"
   ]
  },
  {
   "cell_type": "code",
   "execution_count": 84,
   "metadata": {},
   "outputs": [
    {
     "name": "stdout",
     "output_type": "stream",
     "text": [
      "23\n"
     ]
    }
   ],
   "source": [
    "s = [1,23,4,1]\n",
    "# dir(s)\n",
    "print(s.pop(1))"
   ]
  },
  {
   "cell_type": "markdown",
   "metadata": {},
   "source": [
    "-------------------"
   ]
  },
  {
   "cell_type": "markdown",
   "metadata": {},
   "source": [
    "## Linkllist"
   ]
  },
  {
   "cell_type": "code",
   "execution_count": 1,
   "metadata": {},
   "outputs": [],
   "source": [
    "from PIL import Image as PILImage\n",
    "import base64, io, IPython\n",
    "def image_import(image):\n",
    "    image = PILImage.open(image)\n",
    "    output = io.BytesIO()\n",
    "    image.save(output, format='PNG')\n",
    "    encoded_string = base64.b64encode(output.getvalue()).decode()\n",
    "    html = '<img src=\"data:image/png;base64,{}\"/>'.format(encoded_string)\n",
    "    return IPython.display.HTML(html)"
   ]
  },
  {
   "cell_type": "markdown",
   "metadata": {},
   "source": [
    "### Linklist is type of data structure it is useful of insertion and retrieve the data from anywhere "
   ]
  },
  {
   "cell_type": "code",
   "execution_count": 2,
   "metadata": {},
   "outputs": [
    {
     "data": {
      "text/html": [
       "<img src=\"data:image/png;base64,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\"/>"
      ],
      "text/plain": [
       "<IPython.core.display.HTML object>"
      ]
     },
     "execution_count": 2,
     "metadata": {},
     "output_type": "execute_result"
    }
   ],
   "source": [
    "image_import(\"Linklist.png\")"
   ]
  },
  {
   "cell_type": "code",
   "execution_count": 53,
   "metadata": {},
   "outputs": [],
   "source": [
    "class linklist_node:\n",
    "    def __init__(self,data):\n",
    "        self.data = data\n",
    "        self.nextnode = None\n",
    "\n",
    "class linklist:\n",
    "    def __init__(self):\n",
    "        self.head = None\n",
    "        self.numberofnodes = 0\n",
    "        \n",
    "        \n",
    "    def insert_linklist(self,data):\n",
    "        self.numberofnodes+=1\n",
    "        new_node = linklist_node(data)\n",
    "        if not self.head:\n",
    "            self.head = new_node\n",
    "            \n",
    "        else:\n",
    "            new_node.nextnode = self.head\n",
    "            self.head = new_node\n",
    "            \n",
    "    def insert_linklist_last(self,data):\n",
    "        self.numberofnodes+=1\n",
    "        \n",
    "        new_data = linklist_node(data)\n",
    "        accutal_node = self.head\n",
    "        \n",
    "        while accutal_node.nextnode is not None:\n",
    "            accutal_node = acctual_node.nextnode\n",
    "            \n",
    "        accutal_node.nextnode  = new_data   \n",
    "        \n",
    "    def traverse(self):\n",
    "        accutal_node  = self.head\n",
    "        while accutal_node is not None:\n",
    "            print(accutal_node.data)\n",
    "            accutal_node = accutal_node.nextnode"
   ]
  },
  {
   "cell_type": "code",
   "execution_count": 54,
   "metadata": {},
   "outputs": [],
   "source": [
    "Linklist2 = linklist()\n",
    "\n"
   ]
  },
  {
   "cell_type": "code",
   "execution_count": 55,
   "metadata": {},
   "outputs": [
    {
     "name": "stdout",
     "output_type": "stream",
     "text": [
      "4\n",
      "3\n"
     ]
    }
   ],
   "source": [
    "Linklist2.insert_linklist(3)\n",
    "Linklist2.insert_linklist(4)\n",
    "Linklist2.traverse()\n",
    "# print(Linklist2)"
   ]
  },
  {
   "cell_type": "code",
   "execution_count": 61,
   "metadata": {},
   "outputs": [],
   "source": [
    "class linklist:\n",
    "    def __init__(self,data):\n",
    "        self.data = data\n",
    "        self.head = None \n",
    "        self.nextnode = None \n",
    "        self.numberofnodes = 0\n",
    "        \n",
    "    def insert_first(self,data):\n",
    "        self.numberofnodes+=1\n",
    "        if not self.head:\n",
    "            self.head = data\n",
    "        else:\n",
    "            self.nextnode = self.head\n",
    "            self.head = data\n",
    "    def traverse(self):\n",
    "        accutal_node  = self.head\n",
    "        while accutal_node is not None:\n",
    "            print(self.data)\n",
    "            accutal_node = self.nextnode\n",
    "        \n",
    "    "
   ]
  },
  {
   "cell_type": "code",
   "execution_count": 23,
   "metadata": {},
   "outputs": [],
   "source": [
    "class linklist_new:\n",
    "    def __init__(self):\n",
    "        self.data = None \n",
    "        self.head = None \n",
    "        self.nextnode = None \n",
    "        self.numberofnodes = 0\n",
    "    def link_insert(self,data):\n",
    "        self.data = data\n",
    "        self.numberofnodes+=1\n",
    "        if not self.head:\n",
    "            self.head = self.data\n",
    "            print(self.head)\n",
    "        else:\n",
    "            self.nextnode = self.head\n",
    "            self.head = self.data\n",
    "            print(self.head)  \n",
    "        "
   ]
  },
  {
   "cell_type": "code",
   "execution_count": 24,
   "metadata": {},
   "outputs": [
    {
     "name": "stdout",
     "output_type": "stream",
     "text": [
      "4\n",
      "5\n",
      "7\n"
     ]
    }
   ],
   "source": [
    "Linklist3 = linklist_new()\n",
    "Linklist3.link_insert(4)\n",
    "Linklist3.link_insert(5)\n",
    "Linklist3.link_insert(7)\n",
    "\n",
    "\n"
   ]
  },
  {
   "cell_type": "markdown",
   "metadata": {},
   "source": [
    "# Double linklist "
   ]
  },
  {
   "cell_type": "markdown",
   "metadata": {},
   "source": [
    "## It is faster than compare to the single linklist\n",
    "## It takes extra memory \n",
    "## It is faster to insert and reterive data from the start and end "
   ]
  },
  {
   "cell_type": "markdown",
   "metadata": {},
   "source": [
    "--------------------"
   ]
  },
  {
   "cell_type": "code",
   "execution_count": 7,
   "metadata": {},
   "outputs": [],
   "source": [
    "class node:\n",
    "    def __init__(self,data):\n",
    "        self.data = data\n",
    "        self.nextnode = None \n",
    "\n",
    "class doublylinklist:\n",
    "    def __init__ (self):\n",
    "        self.head = None \n",
    "        self.tail = None \n",
    "        self.numberofnodes = 0\n",
    "    \n",
    "    def dobulylinklist_insert(self,data):\n",
    "        self.numberofnodes+=1\n",
    "        if not self.head:\n",
    "            self.head = node(data)\n",
    "            self.tail = self.head\n",
    "        else:\n",
    "#             self.tail = self.head\n",
    "            self.head = node(data)\n",
    "    \n",
    "        k = self.head\n",
    "        \n",
    "            \n",
    "        return k.data    "
   ]
  },
  {
   "cell_type": "code",
   "execution_count": 8,
   "metadata": {},
   "outputs": [
    {
     "data": {
      "text/plain": [
       "9"
      ]
     },
     "execution_count": 8,
     "metadata": {},
     "output_type": "execute_result"
    }
   ],
   "source": [
    "lst = doublylinklist()\n",
    "lst.dobulylinklist_insert(4)\n",
    "lst.dobulylinklist_insert(5)\n",
    "lst.dobulylinklist_insert(6)\n",
    "lst.dobulylinklist_insert(9)\n",
    "# lst.traverse()"
   ]
  },
  {
   "cell_type": "markdown",
   "metadata": {},
   "source": [
    "----------------------"
   ]
  },
  {
   "cell_type": "code",
   "execution_count": 15,
   "metadata": {},
   "outputs": [],
   "source": [
    "class node:\n",
    "    def __init__(self,data):\n",
    "        self.data = data\n",
    "        self.nextnode = None\n",
    "\n",
    "class linklist_middleitem:\n",
    "    def __init__(self):\n",
    "        self.head = None \n",
    "        self.numberofnode = 0\n",
    "    def insert_data(self,data):\n",
    "        self.numberofnode +=1\n",
    "        new_data = node(data)\n",
    "        if self.head is None:\n",
    "            self.head = new_data\n",
    "        else:\n",
    "            new_data.nextnode = self.head\n",
    "            self.head = new_data\n",
    "        \n",
    "    def middle_term(self):\n",
    "        fast_pointer = self.head\n",
    "        slow_pointer = self.head\n",
    "        while fast_pointer.nextnode and fast_pointer.nextnode.nextnode:\n",
    "            fast_pointer = fast_pointer.nextnode.nextnode\n",
    "            slow_pointer = slow_pointer.nextnode\n",
    "        return slow_pointer"
   ]
  },
  {
   "cell_type": "code",
   "execution_count": 18,
   "metadata": {},
   "outputs": [
    {
     "name": "stdout",
     "output_type": "stream",
     "text": [
      "6\n"
     ]
    }
   ],
   "source": [
    "node_linklist = linklist_middleitem()\n",
    "node_linklist.insert_data(4)\n",
    "node_linklist.insert_data(5)\n",
    "node_linklist.insert_data(6)\n",
    "node_linklist.insert_data(7)\n",
    "print(node_linklist.middle_term().data)"
   ]
  },
  {
   "cell_type": "markdown",
   "metadata": {},
   "source": [
    "---------------------"
   ]
  },
  {
   "cell_type": "code",
   "execution_count": 72,
   "metadata": {},
   "outputs": [],
   "source": [
    "class node:\n",
    "    def __init__(self,data):\n",
    "        self.data = data\n",
    "        self.nextnode = None\n",
    "        self.previousnode = None\n",
    "\n",
    "class linklist_middleitem:\n",
    "    def __init__(self):\n",
    "        self.head = None \n",
    "        self.numberofnode = 0\n",
    "        self.tail = None\n",
    "    def insert_data(self,data):\n",
    "        self.numberofnode +=1\n",
    "        new_data = node(data)\n",
    "        if self.head is None:\n",
    "            self.head = new_data\n",
    "            self.tail = new_data\n",
    "        else:\n",
    "            new_data.nextnode = self.head\n",
    "            self.head = new_data\n",
    "            \n",
    "            \n",
    "    def reverse_linklist(self):\n",
    "        current_node = self.head\n",
    "        next_node = None \n",
    "        previous_node = None\n",
    "        while current_node is not None:\n",
    "            next_node = current_node.nextnode\n",
    "            current_node.nextnode = previous_node\n",
    "            previous_node = current_node\n",
    "            current_node = next_node\n",
    "        self.head = previous_node\n",
    "        \n",
    "        \n",
    "    def traverse(self):\n",
    "        accutal_node  = self.head\n",
    "        while accutal_node is not None:\n",
    "            print(accutal_node.data)\n",
    "            accutal_node = accutal_node.nextnode\n",
    "    \n",
    "        "
   ]
  },
  {
   "cell_type": "code",
   "execution_count": 73,
   "metadata": {},
   "outputs": [
    {
     "name": "stdout",
     "output_type": "stream",
     "text": [
      "4\n",
      "5\n",
      "6\n",
      "7\n"
     ]
    }
   ],
   "source": [
    "node_linklist = linklist_middleitem()\n",
    "node_linklist.insert_data(4)\n",
    "node_linklist.insert_data(5)\n",
    "node_linklist.insert_data(6)\n",
    "node_linklist.insert_data(7)\n",
    "node_linklist.reverse_linklist()\n",
    "node_linklist.traverse()"
   ]
  },
  {
   "cell_type": "markdown",
   "metadata": {},
   "source": [
    "-------"
   ]
  },
  {
   "cell_type": "markdown",
   "metadata": {},
   "source": [
    "## Stacks"
   ]
  },
  {
   "cell_type": "markdown",
   "metadata": {},
   "source": [
    "<ol>\n",
    "    <li>It is strong abstrack data type</li>\n",
    "    <li>LIFO it is Last in first out </li>\n",
    "    <li>there is three method pop()-removing the last item,push()-push an item into stack , peek()-get item into without removing it </li>\n",
    "    </ol>"
   ]
  },
  {
   "cell_type": "markdown",
   "metadata": {},
   "source": [
    "# Memory managment"
   ]
  },
  {
   "cell_type": "markdown",
   "metadata": {},
   "source": [
    "<table style=\"width:100%\">\n",
    "    <tr>\n",
    "    <th>Stack</th>\n",
    "    <th>heap</th>\n",
    "    </tr>\n",
    "    <tr>\n",
    "        <td>Small Size </td>\n",
    "        <td>Larger Size </td>\n",
    "    </tr>\n",
    "    <tr>\n",
    "        <td>fast access </td>\n",
    "        <td>Slow Acess </td>\n",
    "    </tr>\n",
    "    <tr>\n",
    "        <td>store function calls and local variables </td>\n",
    "        <td>store object</td>\n",
    "    </tr>\n",
    "    <tr>\n",
    "        <td>No fregmenatation </td>\n",
    "        <td>may become fregmentation</td>\n",
    "    </tr>\n",
    "\n",
    "\n",
    "</table>\n",
    "    "
   ]
  },
  {
   "cell_type": "markdown",
   "metadata": {},
   "source": [
    "-----------------"
   ]
  },
  {
   "cell_type": "markdown",
   "metadata": {},
   "source": [
    "## Queue"
   ]
  },
  {
   "cell_type": "markdown",
   "metadata": {},
   "source": [
    "<ol>\n",
    "    <li>It is a Abstract datatype </li>\n",
    "    <li>It has fifo structure </li>\n",
    "    <li>It has enqueue(),dequeue(),peek() method</li>\n",
    "    <li>Several application in operation system and thred managment </li>\n",
    "    </ol>"
   ]
  },
  {
   "cell_type": "code",
   "execution_count": 11,
   "metadata": {},
   "outputs": [
    {
     "name": "stdin",
     "output_type": "stream",
     "text": [
      " 10\n"
     ]
    },
    {
     "name": "stdout",
     "output_type": "stream",
     "text": [
      "1.4623067378997803\n",
      "10\n",
      "7\n"
     ]
    }
   ],
   "source": [
    "import time\n",
    "start_time = time.time()\n",
    "import random\n",
    "\n",
    "# n = int(input())\n",
    "def fib(n):\n",
    "    lst = []\n",
    "    lst2 = []\n",
    "    for i in range(n):\n",
    "        lst.append(i)\n",
    "    lst[0] = 0\n",
    "    lst[1] =1 \n",
    "    for i in range(2,n):\n",
    "        lst[i] = lst[i-1]+lst[i-2]\n",
    "        \n",
    "    for j in lst:\n",
    "        if j<n:\n",
    "            lst2.append(j)\n",
    "        \n",
    "   \n",
    "        \n",
    "    \n",
    "    \n",
    "    return len(lst2)\n",
    "\n",
    "\n",
    "if __name__ == '__main__':\n",
    "    n = int(input())\n",
    "#     n =  random.randint(1,1000)\n",
    "    en_time = time.time()\n",
    "    \n",
    "    print(en_time-start_time)\n",
    "    print(n)\n",
    "    print(fib(n))\n",
    "    \n",
    "\n",
    "    \n",
    "    "
   ]
  },
  {
   "cell_type": "code",
   "execution_count": 5,
   "metadata": {},
   "outputs": [
    {
     "name": "stdout",
     "output_type": "stream",
     "text": [
      "[10, 9, -2, 5]\n",
      "([-2, 5], 9)\n",
      "-2\n"
     ]
    }
   ],
   "source": [
    "class queue:\n",
    "    def __init__(self):\n",
    "        self.queue = []\n",
    "        \n",
    "    def enqueue(self,data):\n",
    "        self.queue.append(data)\n",
    "        return self.queue\n",
    "        \n",
    "    def dequeue(self):\n",
    "        data = self.queue[0]\n",
    "        del self.queue[0]\n",
    "        return self.queue, data\n",
    "   \n",
    "    \n",
    "    def peek(self):\n",
    "        data = self.queue[0]\n",
    "        return data\n",
    "\n",
    "if __name__ == \"__main__\":\n",
    "    Queue = queue()\n",
    "    Queue.enqueue(10)\n",
    "    Queue.enqueue(9)\n",
    "    Queue.enqueue(-2)\n",
    "    print(Queue.enqueue(5))\n",
    "    \n",
    "    Queue.dequeue()\n",
    "    Queue.dequeue()\n",
    "    \n",
    "    print(Queue.peek())\n",
    "        "
   ]
  },
  {
   "cell_type": "markdown",
   "metadata": {},
   "source": [
    "---------------------"
   ]
  },
  {
   "cell_type": "markdown",
   "metadata": {},
   "source": [
    "## Binary Tree"
   ]
  },
  {
   "cell_type": "markdown",
   "metadata": {},
   "source": [
    "<ol>\n",
    "    <li>We can search the arbitary item in O(logN) time</li>\n",
    "    <li>This is the concept behind the Binary tree</li>\n",
    "    <li>A tree is a undirected graph in which any two vertics are connected exactly one path or equivalently a connected acyclic undirectd graph</li>\n",
    "    </ol>"
   ]
  },
  {
   "cell_type": "markdown",
   "metadata": {},
   "source": [
    "### Tree Triversal"
   ]
  },
  {
   "cell_type": "markdown",
   "metadata": {},
   "source": [
    "<ol>\n",
    "    <li> Pre order </li>\n",
    "    <li> in order </li>\n",
    "    <li> Post order </li>\n",
    "    </ol>"
   ]
  },
  {
   "cell_type": "markdown",
   "metadata": {},
   "source": [
    "<p>Pre order:-In the pre node we move the root node first and then left subtree and right subtree in the rursive manner</p>"
   ]
  },
  {
   "cell_type": "markdown",
   "metadata": {},
   "source": [
    "---"
   ]
  },
  {
   "cell_type": "markdown",
   "metadata": {},
   "source": [
    "Post order - In the post orser we move the left subtree and after that right subtree and then at last move to the root node"
   ]
  },
  {
   "cell_type": "markdown",
   "metadata": {},
   "source": [
    "<p>Inorder- In the inorder we move to left subtree and after that root node and after that right node</p>"
   ]
  },
  {
   "cell_type": "code",
   "execution_count": 61,
   "metadata": {},
   "outputs": [],
   "source": [
    "\n",
    "\n",
    "class Binarytree:\n",
    "    def __init__(self):\n",
    "        self.node = None \n",
    "        self.leftchild = None\n",
    "        self.rightchild = None\n",
    "    \n",
    "    def binarytree_insert(self,data):\n",
    "        if self.node is None:\n",
    "            self.node = data\n",
    "        else:\n",
    "            self.binarytree_insertion(data,self.node)\n",
    "            \n",
    "                    \n",
    "    def binarytree_insertion(self,data,node):\n",
    "        if data>node:\n",
    "            if self.rightchild is None:\n",
    "                self.rightchild = data\n",
    "            else:\n",
    "                self.rightchild = self.binarytree_insertion(data,self.rightchild)\n",
    "            \n",
    "                    \n",
    "        else:\n",
    "            if self.leftchild is None:\n",
    "                self.leftchild = data\n",
    "            else:\n",
    "                self.leftchild = self.binarytree_insertion(data,self.leftchild)\n",
    "        \n",
    "    \n",
    "        \n",
    "    \n",
    "        \n",
    "        \n",
    "        \n",
    "        \n",
    "        "
   ]
  },
  {
   "cell_type": "code",
   "execution_count": 64,
   "metadata": {},
   "outputs": [],
   "source": [
    "binarytree = Binarytree()\n",
    "binarytree.binarytree_insert(10)\n",
    "binarytree.binarytree_insert(4)\n",
    "binarytree.binarytree_insert(20)\n",
    "# binarytree.prnt()\n",
    "\n",
    "\n",
    "# binarytree.binarytree_insert(4)\n",
    "# failed attempt maximum excercsion exceed"
   ]
  },
  {
   "cell_type": "markdown",
   "metadata": {},
   "source": [
    "------------"
   ]
  },
  {
   "cell_type": "code",
   "execution_count": 58,
   "metadata": {},
   "outputs": [],
   "source": [
    "# class node:\n",
    "#     def __init__(self,data,parent):\n",
    "#         self.data = data\n",
    "#         self.leftchild = None\n",
    "#         self.rightchild = None\n",
    "#         self.parent = parent\n",
    "\n",
    "\n",
    "# class Binarytree:\n",
    "#     def __init__(self):\n",
    "#         self.root = None\n",
    "    \n",
    "#     def binarytree_insert(self,data):\n",
    "#         if self.root is None:\n",
    "#             self.root = node(data,None)\n",
    "#         else:\n",
    "#             self.binarytree_insertion(data,self.root)\n",
    "        \n",
    "        \n",
    "                    \n",
    "#     def binarytree_insertion(self,data,val):\n",
    "#         if data>val.data:\n",
    "#             if val.rightchild is None:\n",
    "#                 self.binarytree_insertion(data,val.rightchild)\n",
    "#             else:\n",
    "#                 val.rightchild = node(data,val)\n",
    "            \n",
    "                    \n",
    "#         else:\n",
    "#             if val.leftchild is None:\n",
    "#                 self.binarytree_insertion(data,val.leftchild)\n",
    "#             else:\n",
    "#                 val.leftchild = node(data,val)\n",
    "        "
   ]
  },
  {
   "cell_type": "code",
   "execution_count": 59,
   "metadata": {},
   "outputs": [],
   "source": [
    "binarytree = Binarytree()\n",
    "binarytree.binarytree_insert(10)\n"
   ]
  },
  {
   "cell_type": "code",
   "execution_count": 66,
   "metadata": {},
   "outputs": [
    {
     "name": "stdout",
     "output_type": "stream",
     "text": [
      "3\n",
      "6\n",
      "12\n",
      "14\n"
     ]
    }
   ],
   "source": [
    "# class Node:\n",
    "\n",
    "#     def __init__(self, data):\n",
    "\n",
    "#         self.left = None\n",
    "#         self.right = None\n",
    "#         self.data = data\n",
    "\n",
    "#     def insert(self, data):\n",
    "# # Compare the new value with the parent node\n",
    "#         if self.data:\n",
    "#             if data < self.data:\n",
    "#                 if self.left is None:\n",
    "#                     self.left = Node(data)\n",
    "#                 else:\n",
    "#                     self.left.insert(data)\n",
    "#             elif data > self.data:\n",
    "#                 if self.right is None:\n",
    "#                     self.right = Node(data)\n",
    "#                 else:\n",
    "#                     self.right.insert(data)\n",
    "#         else:\n",
    "#             self.data = data\n",
    "\n",
    "# # Print the tree\n",
    "#     def PrintTree(self):\n",
    "#         if self.left:\n",
    "#             self.left.PrintTree()\n",
    "#         print( self.data)\n",
    "#         if self.right:\n",
    "#             self.right.PrintTree()\n",
    "\n",
    "# # Use the insert method to add nodes\n",
    "# root = Node(12)\n",
    "# root.insert(6)\n",
    "# root.insert(14)\n",
    "# root.insert(3)\n",
    "\n",
    "# root.PrintTree()"
   ]
  },
  {
   "cell_type": "code",
   "execution_count": 55,
   "metadata": {},
   "outputs": [
    {
     "name": "stdin",
     "output_type": "stream",
     "text": [
      " 9\n"
     ]
    },
    {
     "name": "stdout",
     "output_type": "stream",
     "text": [
      "True\n"
     ]
    }
   ],
   "source": [
    "def perfect_square(n):\n",
    "    try:\n",
    "        n = int(n)\n",
    "        if n==0:\n",
    "            return True\n",
    "        for i in range(1,n//2+1):\n",
    "             if i*i == n:\n",
    "                return True\n",
    "        return False\n",
    "    except:\n",
    "        raise Exception(\"Number is not integer\")\n",
    "    \n",
    "    \n",
    "\n",
    "if __name__ == \"__main__\":\n",
    "    n = input()\n",
    "    print(perfect_square(n))\n",
    "        "
   ]
  },
  {
   "cell_type": "markdown",
   "metadata": {},
   "source": [
    "---------------------"
   ]
  },
  {
   "cell_type": "code",
   "execution_count": null,
   "metadata": {},
   "outputs": [],
   "source": [
    "# Suppose we provide me the list of numbers 11,2,8,14,21,5,7,6 preoreder - node-left-right  \n",
    "                                                                                \n",
    "    \n",
    "##logic root - 11\n",
    "#failure of the cases because of there is no exact thing\n",
    "\n",
    "##completed\n",
    "\n",
    "### why I am getting None what is the reason\n",
    "### 100% correct we need to implement a function which builds al\n"
   ]
  },
  {
   "cell_type": "code",
   "execution_count": 52,
   "metadata": {},
   "outputs": [
    {
     "name": "stdout",
     "output_type": "stream",
     "text": [
      "[3, 4, 10, 17, 20, 28]\n",
      "[3, 4, 10, 16, 17, 20, 28]\n",
      "[3, 4, 5, 10, 16, 17, 20, 28]\n",
      "[3, 4, 5, 10, 11, 16, 17, 20, 28]\n",
      "[3, 4, 5, 10, 11, 16, 17, 20, 28]\n",
      "[-1, 3, 4, 5, 10, 11, 16, 17, 20, 28, 100, 900]\n",
      "[-1, 3, 4, 5, 10, 11, 16, 17, 20, 28, 100, 900]\n"
     ]
    }
   ],
   "source": [
    "class new:\n",
    "    def __init__(self,data):\n",
    "        self.data = data\n",
    "        self.leftchild = None\n",
    "        self.rightchild = None\n",
    "\n",
    "\n",
    "\n",
    "\n",
    "class Binarytree:\n",
    "    def __init__(self):\n",
    "        self.node = None \n",
    "        self.lst = []\n",
    "        self.lst1 = []\n",
    "        self.lst2 = []\n",
    "        self.lst3 = []\n",
    "    \n",
    "    def binarytree_insert(self,data):\n",
    "        if self.node is None:\n",
    "            self.node = new(data)\n",
    "        else:\n",
    "            self.binarytree_insertion(data,self.node)\n",
    "                \n",
    "                    \n",
    "    def binarytree_insertion(self,data,node):\n",
    "        if data>node.data:\n",
    "            if node.rightchild is None:\n",
    "                node.rightchild= new(data)\n",
    "#                 print(node.rightchild.data)\n",
    "                if node.rightchild.data < self.node.data:\n",
    "                      self.lst.append(node.rightchild.data)\n",
    "                else:\n",
    "                    self.lst1.append(node.rightchild.data)\n",
    "                \n",
    "    \n",
    "            else:\n",
    "                self.binarytree_insertion(data,node.rightchild) \n",
    "            \n",
    "                    \n",
    "        else:\n",
    "            if node.leftchild is None:\n",
    "                node.leftchild = new(data)\n",
    "                if node.leftchild.data < self.node.data:\n",
    "                    self.lst2.append(node.leftchild.data)\n",
    "                else:\n",
    "                    self.lst3.append(node.leftchild.data)\n",
    "                \n",
    "                \n",
    "                \n",
    "            else:\n",
    "                self.binarytree_insertion(data,node.leftchild)\n",
    "                \n",
    "                print(self.lst2[::-1]+self.lst[::-1]+[self.node.data]+self.lst3[::-1]+self.lst1)\n",
    "                \n",
    "                   \n",
    "                \n",
    "                \n",
    "#     def prnt(self):\n",
    "#         self.binarytree_insertion\n",
    "        \n",
    "        \n",
    "        \n",
    "                \n",
    "        \n",
    "    \n",
    "\n",
    "    \n",
    "binarytree = Binarytree()\n",
    "binarytree.binarytree_insert(10)\n",
    "binarytree.binarytree_insert(4)\n",
    "binarytree.binarytree_insert(20)\n",
    "binarytree.binarytree_insert(28)\n",
    "binarytree.binarytree_insert(17)\n",
    "binarytree.binarytree_insert(3)\n",
    "binarytree.binarytree_insert(16)\n",
    "binarytree.binarytree_insert(5)\n",
    "binarytree.binarytree_insert(11)\n",
    "binarytree.binarytree_insert(100)\n",
    "binarytree.binarytree_insert(900)\n",
    "binarytree.binarytree_insert(-1)\n",
    "\n",
    "       \n",
    "    \n",
    "        \n",
    "    \n",
    "###\n",
    "        \n",
    "        \n",
    "        \n",
    "        "
   ]
  },
  {
   "cell_type": "code",
   "execution_count": null,
   "metadata": {},
   "outputs": [],
   "source": [
    "#   10\n",
    "#   /  \\\n",
    "# 4     20\n",
    "# /      /  \\ \n",
    "# 3     17   28\n",
    "#       /\n",
    "#       11"
   ]
  },
  {
   "cell_type": "markdown",
   "metadata": {},
   "source": [
    "------------------"
   ]
  },
  {
   "cell_type": "markdown",
   "metadata": {},
   "source": [
    "### Predecessor and Sucessor \n",
    "### Predecessor is highest item from the left subtree\n",
    "### Sucessor is the lowest item from the right subtree"
   ]
  },
  {
   "cell_type": "markdown",
   "metadata": {},
   "source": [
    "------------------------------"
   ]
  },
  {
   "cell_type": "markdown",
   "metadata": {},
   "source": [
    "##### Deleting an item from the tree and two identical tree"
   ]
  },
  {
   "cell_type": "code",
   "execution_count": null,
   "metadata": {},
   "outputs": [],
   "source": [
    "  14\n",
    " /  \\                                                                                        \n",
    "4    20\n",
    "/\\    / \\ \n",
    "3  5  17  21\n",
    "\n",
    "\n",
    "   20\n",
    "   / \\\n",
    "      17\n",
    "        \\\n",
    "        21\n",
    "# #condition suppose we need to remove the leave node \n",
    "# if node.leftchild is None:\n",
    "# #                 node.data,node.leftchild.data = node.leftchild.data,node.data\n",
    "# #                 del node.lefchild.data\n",
    "# #             else:\n",
    "# #                 self.delete_node(data,node.leftchild)\n",
    "\n",
    "## sucessor largest in the left subtree I am not considering the situation where only single node is present \n",
    "# data==node.leftchild.data or data==node.rightchild.data and(node.leftchild.leftchild or node.leftchild.righchild is not None)or(node.rightchild.leftchild or node.rightchild.rightchild is not None):\n",
    "            \n",
    "            "
   ]
  },
  {
   "cell_type": "code",
   "execution_count": 17,
   "metadata": {},
   "outputs": [],
   "source": [
    "\n",
    "##Delete the node val##\n",
    "class Node:\n",
    "    def __init__(self,data):\n",
    "        self.data = data \n",
    "        self.leftchild = None\n",
    "        self.rightchild = None\n",
    "        \n",
    "class binarytree:\n",
    "    def __init__(self):\n",
    "        self.node = None\n",
    "    \n",
    "    def insert_data(self,data):\n",
    "        if self.node is None:\n",
    "            self.node = Node(data)\n",
    "        else:\n",
    "            self.data_insert(data,self.node)\n",
    "    \n",
    "    def data_insert(self,data,node):\n",
    "        if data<node.data:\n",
    "            if node.leftchild is None:\n",
    "                node.leftchild = Node(data)\n",
    "            else:\n",
    "                self.data_insert(data,node.leftchild)\n",
    "                \n",
    "        else:\n",
    "            if node.rightchild is None:\n",
    "                node.rightchild = Node(data)\n",
    "            else:\n",
    "                self.data_insert(data,node.rightchild)\n",
    "    def delete_data(self,data):\n",
    "        self.delete_node(data,self.node)\n",
    "\n",
    "                \n",
    "    def delete_node(self,data,node):\n",
    "        \n",
    "        if data <node.data:\n",
    "            if node.leftchild is None:\n",
    "                del node.leftchild\n",
    "            else:\n",
    "                self.delete_node(data,node.leftchild)\n",
    "        elif data>node.data:\n",
    "            if node.rightchild is None:\n",
    "                del node.rightchild\n",
    "            else:\n",
    "                self.delete_node(data,node.rightchild)\n",
    "                \n",
    "        elif data == node.data:\n",
    "            val = self.head_node_exchange(self.node)\n",
    "            val = max(val)\n",
    "            val,node.data = node.data,val\n",
    "            self.delete_node(data,node)\n",
    "            \n",
    "        elif data==node.leftchild.data and (node.leftchild.leftchild or node.leftchild.righchild is not None):\n",
    "            node.leftchild.data,node.leftchild.rightchild.data = node.leftchild.rightchild.data,node.leftchild.data\n",
    "            del node.letchild.rightchild.data\n",
    "        elif data== node.rightchild.data and (node.rightchild.leftchild or node.rightchild.rightchild is not None):\n",
    "            node.rightchild.data,node.rightchild.leftchild.data =node.rightchild.leftchild.data,node.rightchild.data\n",
    "            del node.rightchild.leftchild.data\n",
    "        \n",
    "                \n",
    "            \n",
    "    def head_node_exchange(self,node):\n",
    "        sucessor = []\n",
    "        if node.leftchild.rightchild is not None:\n",
    "            sucessor.append(node.leftchild.rightchild.data)\n",
    "        else:\n",
    "            self.head_node_exchange(node.leftchild.leftchild.rightchild)\n",
    "        return sucessor\n",
    "    \n",
    "    \n",
    "    \n",
    "binarytre = binarytree()\n",
    "binarytre.insert_data(10)\n",
    "binarytre.insert_data(4)\n",
    "binarytre.insert_data(20)\n",
    "binarytre.insert_data(28)\n",
    "binarytre.insert_data(17)\n",
    "binarytre.insert_data(3)\n",
    "binarytre.insert_data(16)\n",
    "binarytre.insert_data(5)\n",
    "binarytre.insert_data(11)\n",
    "binarytre.insert_data(100)\n",
    "binarytre.insert_data(900)\n",
    "binarytre.insert_data(-1)\n",
    "binarytre.delete_data(-1)"
   ]
  },
  {
   "cell_type": "markdown",
   "metadata": {},
   "source": [
    "----------------------"
   ]
  },
  {
   "cell_type": "markdown",
   "metadata": {},
   "source": [
    "### AVL Tree\n",
    "<ol>\n",
    "    <li>In Avl tree the height of the two child subtree of any node depends upon the at most one</li>\n",
    "    <li>Avl tree is faster than Red black tree but because they are more rigidly balance</li>\n",
    "    <li>After every Insertion and removal we need to check that tree is balance or not.if the tree is imbalacne we need to make a rotation </li>\n",
    "    <li>height = max(leftchild height,rightchild height)+1</li>\n",
    "    <li>the height of leaf node is null and the height of null node is -1</li>\n",
    "    <li>We need to  check the balance factor |hleft-hright| also we need to check that it is a left heavy case or right heavy case</li>\n",
    "    <li>We need to make rotation if the difference is greater than 1 or less than -1</li>\n",
    "    </ol>"
   ]
  },
  {
   "cell_type": "code",
   "execution_count": 23,
   "metadata": {},
   "outputs": [],
   "source": [
    "# # incomplete \n",
    "# class Node:\n",
    "#     def __init__(self,data,parent):\n",
    "#         self.data = data\n",
    "#         self.leftnode = None\n",
    "#         self.rightnode = None\n",
    "#         self.parent  = parent\n",
    "#         self.height = 0\n",
    "\n",
    "# class AVLTree:\n",
    "#     def __init__(self):\n",
    "#         self.root = None\n",
    "        \n",
    "#     def data_insert(self,data):\n",
    "#         if self.root is None:\n",
    "#             self.root = Node(data,None)\n",
    "#         else:\n",
    "#             self.insert_data_new(data,self.root)\n",
    "            \n",
    "#     def insert_data_new(self,data,node):\n",
    "#         if data>node.data:\n",
    "#             if node.rightnode is None:\n",
    "#                 node.rightnode = Node(data,node)\n",
    "#                 node.height = max(self.calc_height(node.leftnode),self.calc_height(node.rightnode))+1\n",
    "#             else:\n",
    "#                 self_insert_data_new(data,self.rightnode)\n",
    "#         else:\n",
    "#             if node.leftnode is None:\n",
    "#                 node.leftnode = Node(data,node)\n",
    "#                 node.height = max(self.calc_height(node.leftnode),self.calc_height(node.rightnode))+1\n",
    "#             else:\n",
    "#                 self.insert_data_new(data,node.leftnode)\n",
    "#         self.balance_check(node)\n",
    "        \n",
    "    \n",
    "#     def calc_height(self,node):\n",
    "#             if node is None:\n",
    "#                 return -1\n",
    "#             return node.height\n",
    "            \n",
    "#     def balance_check(self,node):\n",
    "#         balance_fact = self.balance_fact(node)\n",
    "#         if balance_fact > 1:\n",
    "#             #it will become the left heavy\n",
    "#             # Need to  check the node it is not necessary that every node has leftnode.rightnode\n",
    "            \n",
    "#             if self.balance_fast(node.leftnode)<0:\n",
    "#                 self.leftrotate(node.leftrotate)\n",
    "#             self.righrotate(node)\n",
    "            \n",
    "            \n",
    "            \n",
    "#         if balance_fact <-1:\n",
    "#             #it will become the right heavy\n",
    "            \n",
    "#             if self.balance_fast(node.rightnode)>1:\n",
    "#                 self.rightrotate(node.rightnode)\n",
    "#             self.leftrotate(node)\n",
    "            \n",
    "#     def leftrotate(self,node):\n",
    "#         temp = node.rightnode\n",
    "#         t = temp.leftnode\n",
    "        \n",
    "#         if t is not None:\n",
    "#             t.parent = node\n",
    "            \n",
    "            \n",
    "        \n",
    "        \n",
    "            \n",
    "        \n",
    "        \n",
    "#     def balance_fact(self,node):\n",
    "#         if node is None:\n",
    "#             return 0\n",
    "#         return self.calc_height(node.leftnode)-self.calc_height(node.rightnode)\n",
    "    \n",
    "    \n",
    "    \n",
    "    \n",
    "       \n",
    "    \n",
    "    \n",
    "        "
   ]
  },
  {
   "cell_type": "code",
   "execution_count": null,
   "metadata": {},
   "outputs": [],
   "source": []
  },
  {
   "cell_type": "markdown",
   "metadata": {},
   "source": [
    "------------------------"
   ]
  },
  {
   "cell_type": "markdown",
   "metadata": {},
   "source": [
    "## Red-Black Tree"
   ]
  },
  {
   "cell_type": "markdown",
   "metadata": {},
   "source": [
    "<ol>\n",
    "    <li>It is balance data structure invented by in 1978 by Leonidas Guidas and Robert </li>\n",
    "     <li>This data structure running time O(logN) in best and worst case scenario </li>\n",
    "     <li>It is faster to contruct </li>\n",
    "     <li>Every red nodes must have must have two black children</li>\n",
    "     <li>Every path from a given node to any of its node descendant NULL nodes contains the same m numbers of black nodes</li>\n",
    "     <ol>\n",
    "         <li> let's assume that the shortest path from the root to any leaf node contains m black nodes</li>\n",
    "         <li>The longest possible path contains 2m nodes(alternative red and black) becauese of its has every number of paths have the same number of nodes</li>\n",
    "    </ol>\n",
    "    \n",
    " </ol>"
   ]
  },
  {
   "cell_type": "markdown",
   "metadata": {},
   "source": [
    "-----------------"
   ]
  },
  {
   "cell_type": "markdown",
   "metadata": {},
   "source": [
    "## heap data structure"
   ]
  },
  {
   "cell_type": "markdown",
   "metadata": {},
   "source": [
    "<ol>\n",
    "    <li>Heap Data structure is similar like tree data structure but some additional effect </li>\n",
    "    <li>Heap Data structure have two type max heap and minimum heap</li>\n",
    "    <li>In The max heap all the pareent are maximum and in the minimum all the parent are minimum </li>\n",
    "    <li>If the node with index i has left child so the index 2i+1 and right child 2i+2 </li>\n",
    "    <li>heap algorithm is best for finding the max and min because for that running time complexity is O(1)  </li>\n",
    "</ol>"
   ]
  },
  {
   "cell_type": "markdown",
   "metadata": {},
   "source": [
    "## Binomial heap"
   ]
  },
  {
   "cell_type": "markdown",
   "metadata": {},
   "source": [
    "<ol>\n",
    "    <li>Similar to binary heap but also support quick merging of two heaps </li>\n",
    "    <li>It is important as an implementation of the mergeable heap abstract data type</li>\n",
    "    <li>binomial heap is implemented of collection of the trees</li>\n",
    "    <li>the O(logN) lograthimic insertion time complexity can be reduced to o(1) constant time</li>\n",
    "    <li>heap algorithm is best for finding the max and min because for that running time complexity is O(1)  </li>\n",
    "</ol>"
   ]
  },
  {
   "cell_type": "markdown",
   "metadata": {},
   "source": [
    "## Fibonacci heap"
   ]
  },
  {
   "cell_type": "markdown",
   "metadata": {},
   "source": [
    "<ol>\n",
    "    <li>Fibonacci heap is faster than any heap </li>\n",
    "    <li>Dijkstar's shortest path algorithm and Prims spanning tree algorithm run if they rely on the fibonacci heap</li>\n",
    "    <li>It is hard to implement </li>\n",
    "    <li>Unlike binary heap it can be have sevral children </li>\n",
    "    <li>heap algorithm is best for finding the max and min because for that running time complexity is O(1)  </li>\n",
    "</ol>"
   ]
  },
  {
   "cell_type": "markdown",
   "metadata": {},
   "source": [
    "-------"
   ]
  },
  {
   "cell_type": "markdown",
   "metadata": {},
   "source": [
    "### Priority Queue"
   ]
  },
  {
   "cell_type": "markdown",
   "metadata": {},
   "source": [
    "<ol>\n",
    "    <li>It is an abstract data type such as queue </li>\n",
    "    <li>Every item has an additional property the so called priority value </li>\n",
    "    <li>In a priority queue highest priority value served first compare to lowest priority value </li>\n",
    "    \n",
    "</ol>"
   ]
  },
  {
   "cell_type": "code",
   "execution_count": 4,
   "metadata": {},
   "outputs": [],
   "source": [
    "###maximum heap            ## minimum heap \n",
    "                                  #similar to the maximum heap                                                       \n",
    "#    10                   \n",
    "#   /  \\                 \n",
    "#   7    4\n",
    " #   /\\  / \\                \n",
    "#   3 5 1  3"
   ]
  },
  {
   "cell_type": "code",
   "execution_count": 11,
   "metadata": {},
   "outputs": [],
   "source": [
    "class heap:\n",
    "    def __init__(self,n):\n",
    "        self.capacity = n\n",
    "        self.heap = [0]*self.capacity\n",
    "        self.heapidx = 0\n",
    "        \n",
    "    def insert(self,data):\n",
    "        if self.heapidx==self.capacity:\n",
    "            return \n",
    "        self.heap[self.heapidx] = data\n",
    "        self.heapidx+=1\n",
    "        \n",
    "        self.balancing(self.heapidx-1)\n",
    "        return self.heap\n",
    "        \n",
    "    def balancing(self,index):\n",
    "        parent_index = (index-1)//2\n",
    "        if self.heap[parent_index]<self.heap[index] and index>0:\n",
    "            self.heap[parent_index],self.heap[index] = self.heap[index],self.heap[parent_index]\n",
    "            self.balancing(parent_index)\n",
    "            \n",
    "    \n",
    "            "
   ]
  },
  {
   "cell_type": "code",
   "execution_count": 13,
   "metadata": {},
   "outputs": [
    {
     "name": "stdout",
     "output_type": "stream",
     "text": [
      "[9, 1, 4, 0, 0]\n"
     ]
    }
   ],
   "source": [
    "Heap = heap(5)\n",
    "Heap.insert(1)\n",
    "Heap.insert(9)\n",
    "Heap.insert(4)\n",
    "print(output)"
   ]
  },
  {
   "cell_type": "code",
   "execution_count": 1,
   "metadata": {},
   "outputs": [],
   "source": [
    "class Minheap:\n",
    "    def __init__(self,n):\n",
    "        self.capacity = n\n",
    "        self.heap = [0]*self.capacity\n",
    "        self.heapidx = 0\n",
    "        \n",
    "    def insert(self,data):\n",
    "        if self.heapidx == self.capacity:\n",
    "            return\n",
    "        self.heap[self.heapidx] = data\n",
    "        self.heapidx+=1\n",
    "        self.balancing(self.heapidx-1)\n",
    "        return self.heap\n",
    "        \n",
    "        \n",
    "    def balancing(self,index):\n",
    "        parent_index = (index-1)//2\n",
    "        if self.heap[parent_index]>self.heap[index] and index>0:\n",
    "            self.heap[parent_index],self.heap[index] = self.heap[index],self.heap[parent_index]\n",
    "            self.balancing(parent_index)\n",
    "            \n",
    "    def removing_item(self,index):\n",
    "        if data not in self.heap:\n",
    "            return \n",
    "        data = self.heap[0]\n",
    "        self.heap[0],self.heap[self.heapidx-1] = self.heap[self.heapidx-1],self.heap[0]\n",
    "        self.heapidx-=1\n",
    "        \n",
    "        least_index = index\n",
    "        \n",
    "        left_index = 2*index + 1\n",
    "        right_index = 2*index + 2\n",
    "        \n",
    "        if self.heapidx > 0 and self.heap[left_index]<self.heap[index]:\n",
    "            least_index = left_index\n",
    "            \n",
    "        if self.heapidx >0 and self.heap[right_index]<self.heap[index]:\n",
    "            least_index = right_index\n",
    "            \n",
    "        if index!=least_index:\n",
    "            self.heap[index],self.heap[least_index] = self.heap[least_index],self.heap[index]\n",
    "            self.removing_item(least_index)\n",
    "        \n",
    "        \n",
    "            \n",
    "            "
   ]
  },
  {
   "cell_type": "code",
   "execution_count": 4,
   "metadata": {},
   "outputs": [
    {
     "name": "stdout",
     "output_type": "stream",
     "text": [
      "[1, 9, 4, 19, 53]\n"
     ]
    }
   ],
   "source": [
    "Heap = Minheap(5)\n",
    "Heap.insert(1)\n",
    "Heap.insert(9)\n",
    "Heap.insert(4)\n",
    "Heap.insert(19)\n",
    "output = Heap.insert(53)\n",
    "print(output)"
   ]
  },
  {
   "cell_type": "code",
   "execution_count": null,
   "metadata": {},
   "outputs": [],
   "source": [
    "class MaxtoMinheap:\n",
    "    def __init__(self):\n",
    "        self.minxheap = [0]\n",
    "        self.heapidx = 0\n",
    "        \n",
    "    def conversion(self,maxheap):\n",
    "        self.minheap*len(maxheap)\n",
    "        le"
   ]
  },
  {
   "cell_type": "code",
   "execution_count": null,
   "metadata": {},
   "outputs": [],
   "source": []
  }
 ],
 "metadata": {
  "kernelspec": {
   "display_name": "Python 3",
   "language": "python",
   "name": "python3"
  },
  "language_info": {
   "codemirror_mode": {
    "name": "ipython",
    "version": 3
   },
   "file_extension": ".py",
   "mimetype": "text/x-python",
   "name": "python",
   "nbconvert_exporter": "python",
   "pygments_lexer": "ipython3",
   "version": "3.8.5"
  }
 },
 "nbformat": 4,
 "nbformat_minor": 4
}
